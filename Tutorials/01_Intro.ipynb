{
  "cells": [
    {
      "metadata": {},
      "cell_type": "markdown",
      "source": "# [An introduction to machine learning with scikit-learn](https://scikit-learn.org/stable/tutorial/basic/tutorial.html)"
    },
    {
      "metadata": {},
      "cell_type": "markdown",
      "source": "## Machine learning: the problem setting\n\n보통 기계학승은 Sample이 주어졌을 때, 알려지지 않은 데이터의 속성을 예측하는 것이다. \n\n기계학습은 크게 지도학습(supervised learning)과 비지도학습(unsupervised learning)으로 나뉜다. \n\n* supervised learning\n  - classification : training set에 categorical variable이 주어졌을 때, testing set의 그것을 예측하는 것\n  - regression : training set에 continuous variable이 주어졌을 때, testing set의 그것을 예측하는 것\n* unsupervised learning\n  - clustering : testing set 속에서 비슷한 group을 발견하여 묶는 것\n  - density estination : testing set의 distribution을 결정하는 것\n  - dimensionality reduction : 고차원 testing set의 차원을 축소하는 것\n  \n<img src=\"https://scikit-learn.org/stable/_static/ml_map.png\" alt=\"scikit-learn algorithm cheat-sheet\" style=\"width: 80%;\"/>\n\n\n\n"
    },
    {
      "metadata": {},
      "cell_type": "markdown",
      "source": "## Learning and predicting\n\nRecognizing hand-written digits example"
    },
    {
      "metadata": {
        "trusted": true
      },
      "cell_type": "code",
      "source": "from sklearn import datasets\niris = datasets.load_iris()\ndigits = datasets.load_digits()\n\nprint(\"data\\n\", digits.data)\nprint(\"tagets\\n\", digits.target)",
      "execution_count": 4,
      "outputs": [
        {
          "output_type": "stream",
          "text": "data\n [[ 0.  0.  5. ...  0.  0.  0.]\n [ 0.  0.  0. ... 10.  0.  0.]\n [ 0.  0.  0. ... 16.  9.  0.]\n ...\n [ 0.  0.  1. ...  6.  0.  0.]\n [ 0.  0.  2. ... 12.  0.  0.]\n [ 0.  0. 10. ... 12.  1.  0.]]\ntagets\n [0 1 2 ... 8 9 8]\n",
          "name": "stdout"
        }
      ]
    },
    {
      "metadata": {
        "trusted": true
      },
      "cell_type": "code",
      "source": "print( digits.images[0] )",
      "execution_count": 8,
      "outputs": [
        {
          "output_type": "stream",
          "text": "[[ 0.  0.  5. 13.  9.  1.  0.  0.]\n [ 0.  0. 13. 15. 10. 15.  5.  0.]\n [ 0.  3. 15.  2.  0. 11.  8.  0.]\n [ 0.  4. 12.  0.  0.  8.  8.  0.]\n [ 0.  5.  8.  0.  0.  9.  8.  0.]\n [ 0.  4. 11.  0.  1. 12.  7.  0.]\n [ 0.  2. 14.  5. 10. 12.  0.  0.]\n [ 0.  0.  6. 13. 10.  0.  0.  0.]]\n",
          "name": "stdout"
        }
      ]
    },
    {
      "metadata": {
        "trusted": true
      },
      "cell_type": "code",
      "source": "from sklearn import svm\n\n# classifier\nclf = svm.SVC( gamma=0.001, C=100. )\n\n# clf.fit( data, target )\nclf.fit( digits.data[:-1], digits.target[:-1] )\n",
      "execution_count": 5,
      "outputs": [
        {
          "output_type": "execute_result",
          "execution_count": 5,
          "data": {
            "text/plain": "SVC(C=100.0, cache_size=200, class_weight=None, coef0=0.0,\n  decision_function_shape='ovr', degree=3, gamma=0.001, kernel='rbf',\n  max_iter=-1, probability=False, random_state=None, shrinking=True,\n  tol=0.001, verbose=False)"
          },
          "metadata": {}
        }
      ]
    },
    {
      "metadata": {
        "trusted": true
      },
      "cell_type": "code",
      "source": "clf.predict( digits.data[-1:] )",
      "execution_count": 6,
      "outputs": [
        {
          "output_type": "execute_result",
          "execution_count": 6,
          "data": {
            "text/plain": "array([8])"
          },
          "metadata": {}
        }
      ]
    },
    {
      "metadata": {
        "trusted": true
      },
      "cell_type": "code",
      "source": "",
      "execution_count": null,
      "outputs": []
    }
  ],
  "metadata": {
    "kernelspec": {
      "name": "python36",
      "display_name": "Python 3.6",
      "language": "python"
    },
    "language_info": {
      "mimetype": "text/x-python",
      "nbconvert_exporter": "python",
      "name": "python",
      "pygments_lexer": "ipython3",
      "version": "3.6.6",
      "file_extension": ".py",
      "codemirror_mode": {
        "version": 3,
        "name": "ipython"
      }
    }
  },
  "nbformat": 4,
  "nbformat_minor": 1
}